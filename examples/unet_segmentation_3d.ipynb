{
 "cells": [
  {
   "cell_type": "markdown",
   "metadata": {},
   "source": [
    "# 3D Segmentation with UNet"
   ]
  },
  {
   "cell_type": "code",
   "execution_count": 1,
   "metadata": {},
   "outputs": [
    {
     "name": "stdout",
     "output_type": "stream",
     "text": [
      "MONAI version: 0.0.1\n",
      "Python version: 3.7.4 (default, Aug 13 2019, 20:35:49)  [GCC 7.3.0]\n",
      "Numpy version: 1.17.2+intel.0\n",
      "Pytorch version: 1.4.0\n",
      "Ignite version: 0.3.0\n"
     ]
    }
   ],
   "source": [
    "import os\n",
    "import sys\n",
    "import tempfile\n",
    "from glob import glob\n",
    "import logging\n",
    "\n",
    "import nibabel as nib\n",
    "import numpy as np\n",
    "import torch\n",
    "from torch.utils.tensorboard import SummaryWriter\n",
    "from ignite.engine import Events, create_supervised_trainer, create_supervised_evaluator\n",
    "from ignite.handlers import ModelCheckpoint, EarlyStopping\n",
    "from torch.utils.data import DataLoader\n",
    "\n",
    "# assumes the framework is found here, change as necessary\n",
    "sys.path.append(\"..\")\n",
    "\n",
    "import monai\n",
    "import monai.transforms.compose as transforms\n",
    "\n",
    "from monai.data.nifti_reader import NiftiDataset\n",
    "from monai.transforms import (AddChannel, Rescale, ToTensor, UniformRandomPatch)\n",
    "from monai.handlers.stats_handler import StatsHandler\n",
    "from monai.handlers.mean_dice import MeanDice\n",
    "from monai.visualize import img2tensorboard\n",
    "from monai.data.synthetic import create_test_image_3d\n",
    "from monai.handlers.utils import stopping_fn_from_metric\n",
    "\n",
    "monai.config.print_config()"
   ]
  },
  {
   "cell_type": "markdown",
   "metadata": {},
   "source": [
    "## Setup Test data"
   ]
  },
  {
   "cell_type": "code",
   "execution_count": 2,
   "metadata": {},
   "outputs": [],
   "source": [
    "# Create a temporary directory and 50 random image, mask paris\n",
    "tempdir = tempfile.mkdtemp()\n",
    "\n",
    "for i in range(50):\n",
    "    im, seg = create_test_image_3d(128, 128, 128, num_seg_classes=1)\n",
    "\n",
    "    n = nib.Nifti1Image(im, np.eye(4))\n",
    "    nib.save(n, os.path.join(tempdir, 'im%i.nii.gz' % i))\n",
    "\n",
    "    n = nib.Nifti1Image(seg, np.eye(4))\n",
    "    nib.save(n, os.path.join(tempdir, 'seg%i.nii.gz' % i))"
   ]
  },
  {
   "cell_type": "markdown",
   "metadata": {},
   "source": [
    "## Setup transforms, dataset"
   ]
  },
  {
   "cell_type": "code",
   "execution_count": 3,
   "metadata": {},
   "outputs": [
    {
     "name": "stdout",
     "output_type": "stream",
     "text": [
      "torch.Size([10, 1, 96, 96, 96]) torch.Size([10, 1, 96, 96, 96])\n"
     ]
    }
   ],
   "source": [
    "images = sorted(glob(os.path.join(tempdir, 'im*.nii.gz')))\n",
    "segs = sorted(glob(os.path.join(tempdir, 'seg*.nii.gz')))\n",
    "\n",
    "# Define transforms for image and segmentation\n",
    "imtrans = transforms.Compose([\n",
    "    Rescale(), \n",
    "    AddChannel(), \n",
    "    UniformRandomPatch((96, 96, 96)), \n",
    "    ToTensor()\n",
    "])\n",
    "segtrans = transforms.Compose([\n",
    "    AddChannel(), \n",
    "    UniformRandomPatch((96, 96, 96)), \n",
    "    ToTensor()\n",
    "])\n",
    "\n",
    "# Define nifti dataset, dataloader.\n",
    "ds = NiftiDataset(images, segs, transform=imtrans, seg_transform=segtrans)\n",
    "loader = DataLoader(ds, batch_size=10, num_workers=2, pin_memory=torch.cuda.is_available())\n",
    "im, seg = monai.utils.misc.first(loader)\n",
    "print(im.shape, seg.shape)"
   ]
  },
  {
   "cell_type": "markdown",
   "metadata": {},
   "source": [
    "## Create Model, Loss, Optimizer"
   ]
  },
  {
   "cell_type": "code",
   "execution_count": 4,
   "metadata": {},
   "outputs": [],
   "source": [
    "lr = 1e-5\n",
    "\n",
    "# Create UNet, DiceLoss and Adam optimizer.\n",
    "net = monai.networks.nets.UNet(\n",
    "    dimensions=3,\n",
    "    in_channels=1,\n",
    "    num_classes=1,\n",
    "    channels=(16, 32, 64, 128, 256),\n",
    "    strides=(2, 2, 2, 2),\n",
    "    num_res_units=2,\n",
    ")\n",
    "\n",
    "loss = monai.losses.DiceLoss(do_sigmoid=True)\n",
    "opt = torch.optim.Adam(net.parameters(), lr)"
   ]
  },
  {
   "cell_type": "markdown",
   "metadata": {},
   "source": [
    "## Create supervised_trainer using ignite"
   ]
  },
  {
   "cell_type": "code",
   "execution_count": 5,
   "metadata": {},
   "outputs": [],
   "source": [
    "# Since network outputs logits and segmentation, we need a custom function.\n",
    "def _loss_fn(i, j):\n",
    "    return loss(i[0], j)\n",
    "\n",
    "# Create trainer\n",
    "device = torch.device(\"cuda:0\")\n",
    "trainer = create_supervised_trainer(net, opt, _loss_fn, device, False,\n",
    "                                    output_transform=lambda x, y, y_pred, loss: [y_pred, loss.item(), y])"
   ]
  },
  {
   "cell_type": "markdown",
   "metadata": {},
   "source": [
    "## Setup event handlers for checkpointing and logging"
   ]
  },
  {
   "cell_type": "code",
   "execution_count": 6,
   "metadata": {},
   "outputs": [],
   "source": [
    "### optional section for checkpoint and tensorboard logging\n",
    "# adding checkpoint handler to save models (network params and optimizer stats) during training\n",
    "checkpoint_handler = ModelCheckpoint('./runs/', 'net', n_saved=10, require_empty=False)\n",
    "trainer.add_event_handler(event_name=Events.EPOCH_COMPLETED,\n",
    "                          handler=checkpoint_handler,\n",
    "                          to_save={'net': net, 'opt': opt})\n",
    "train_stats_handler = StatsHandler()\n",
    "train_stats_handler.attach(trainer)\n",
    "\n",
    "writer = SummaryWriter()\n",
    "\n",
    "@trainer.on(Events.EPOCH_COMPLETED)\n",
    "def log_training_loss(engine):\n",
    "    # log loss to tensorboard with second item of engine.state.output, loss.item() from output_transform\n",
    "    writer.add_scalar('Loss/train', engine.state.output[1], engine.state.epoch)\n",
    "\n",
    "    # tensor of ones to use where for converting labels to zero and ones\n",
    "    ones = torch.ones(engine.state.batch[1][0].shape, dtype=torch.int32)\n",
    "    first_output_tensor = engine.state.output[0][1][0].detach().cpu()\n",
    "    # log model output to tensorboard, as three dimensional tensor with no channels dimension\n",
    "    img2tensorboard.add_animated_gif_no_channels(writer, \"first_output_final_batch\", first_output_tensor, 64,\n",
    "                                                 255, engine.state.epoch)\n",
    "    # get label tensor and convert to single class\n",
    "    first_label_tensor = torch.where(engine.state.batch[1][0] > 0, ones, engine.state.batch[1][0])\n",
    "    # log label tensor to tensorboard, there is a channel dimension when getting label from batch\n",
    "    img2tensorboard.add_animated_gif(writer, \"first_label_final_batch\", first_label_tensor, 64,\n",
    "                                     255, engine.state.epoch)\n",
    "    second_output_tensor = engine.state.output[0][1][1].detach().cpu()\n",
    "    img2tensorboard.add_animated_gif_no_channels(writer, \"second_output_final_batch\", second_output_tensor, 64,\n",
    "                                                 255, engine.state.epoch)\n",
    "    second_label_tensor = torch.where(engine.state.batch[1][1] > 0, ones, engine.state.batch[1][1])\n",
    "    img2tensorboard.add_animated_gif(writer, \"second_label_final_batch\", second_label_tensor, 64,\n",
    "                                     255, engine.state.epoch)\n",
    "    third_output_tensor = engine.state.output[0][1][2].detach().cpu()\n",
    "    img2tensorboard.add_animated_gif_no_channels(writer, \"third_output_final_batch\", third_output_tensor, 64,\n",
    "                                                 255, engine.state.epoch)\n",
    "    third_label_tensor = torch.where(engine.state.batch[1][2] > 0, ones, engine.state.batch[1][2])\n",
    "    img2tensorboard.add_animated_gif(writer, \"third_label_final_batch\", third_label_tensor, 64,\n",
    "                                     255, engine.state.epoch)\n",
    "    engine.logger.info(\"Epoch[%s] Loss: %s\", engine.state.epoch, engine.state.output[1])\n",
    "\n",
    "\n"
   ]
  },
  {
   "cell_type": "markdown",
   "metadata": {},
   "source": [
    "## Add Vadliation every N epochs"
   ]
  },
  {
   "cell_type": "code",
   "execution_count": 7,
   "metadata": {},
   "outputs": [],
   "source": [
    "### optional section for model validation during training\n",
    "# Set parameters for validation\n",
    "validation_every_n_epochs = 1\n",
    "metric_name = 'Mean_Dice'\n",
    "\n",
    "# add evaluation metric to the evaluator engine\n",
    "val_metrics = {metric_name: MeanDice(add_sigmoid=True)}\n",
    "evaluator = create_supervised_evaluator(net, val_metrics, device, True,\n",
    "                                        output_transform=lambda x, y, y_pred: (y_pred[0], y))\n",
    "\n",
    "# Add stats event handler to print validation stats via evaluator\n",
    "logging.basicConfig(stream=sys.stdout, level=logging.INFO)\n",
    "val_stats_handler = StatsHandler()\n",
    "val_stats_handler.attach(evaluator)\n",
    "\n",
    "# Add early stopping handler to evaluator.\n",
    "early_stopper = EarlyStopping(patience=4,\n",
    "                              score_function=stopping_fn_from_metric(metric_name),\n",
    "                              trainer=trainer)\n",
    "evaluator.add_event_handler(event_name=Events.EPOCH_COMPLETED, handler=early_stopper)\n",
    "\n",
    "# create a validation data loader\n",
    "val_ds = NiftiDataset(images[-20:], segs[-20:], transform=imtrans, seg_transform=segtrans)\n",
    "val_loader = DataLoader(ds, batch_size=5, num_workers=8, pin_memory=torch.cuda.is_available())\n",
    "\n",
    "\n",
    "@trainer.on(Events.EPOCH_COMPLETED(every=validation_every_n_epochs))\n",
    "def run_validation(engine):\n",
    "    evaluator.run(val_loader)\n",
    "\n",
    "@evaluator.on(Events.EPOCH_COMPLETED)\n",
    "def log_metrics_to_tensorboard(engine):\n",
    "    for name, value in engine.state.metrics.items():\n",
    "        writer.add_scalar(f'Metrics/{name}', value, trainer.state.epoch)\n"
   ]
  },
  {
   "cell_type": "markdown",
   "metadata": {},
   "source": [
    "## Run training loop"
   ]
  },
  {
   "cell_type": "code",
   "execution_count": 8,
   "metadata": {},
   "outputs": [
    {
     "name": "stdout",
     "output_type": "stream",
     "text": [
      "INFO:ignite.engine.engine.Engine:Engine run starting with max_epochs=30.\n",
      "INFO:ignite.engine.engine.Engine:Epoch[1] Complete. Time taken: 00:00:02\n",
      "INFO:ignite.engine.engine.Engine:Epoch[1] Loss: 0.6422698497772217\n",
      "INFO:ignite.engine.engine.Engine:Engine run starting with max_epochs=1.\n",
      "INFO:ignite.engine.engine.Engine:Epoch[1] Complete. Time taken: 00:00:00\n",
      "INFO:ignite.engine.engine.Engine:Epoch[1] Metrics -- Mean_Dice: 0.3222 \n",
      "INFO:ignite.engine.engine.Engine:Engine run complete. Time taken 00:00:01\n",
      "INFO:ignite.engine.engine.Engine:Epoch[2] Complete. Time taken: 00:00:02\n",
      "INFO:ignite.engine.engine.Engine:Epoch[2] Loss: 0.6460620164871216\n",
      "INFO:ignite.engine.engine.Engine:Engine run starting with max_epochs=1.\n",
      "INFO:ignite.engine.engine.Engine:Epoch[1] Complete. Time taken: 00:00:00\n",
      "INFO:ignite.engine.engine.Engine:Epoch[1] Metrics -- Mean_Dice: 0.3284 \n",
      "INFO:ignite.engine.engine.Engine:Engine run complete. Time taken 00:00:00\n",
      "INFO:ignite.engine.engine.Engine:Epoch[3] Complete. Time taken: 00:00:02\n",
      "INFO:ignite.engine.engine.Engine:Epoch[3] Loss: 0.6517763137817383\n",
      "INFO:ignite.engine.engine.Engine:Engine run starting with max_epochs=1.\n",
      "INFO:ignite.engine.engine.Engine:Epoch[1] Complete. Time taken: 00:00:00\n",
      "INFO:ignite.engine.engine.Engine:Epoch[1] Metrics -- Mean_Dice: 0.3345 \n",
      "INFO:ignite.engine.engine.Engine:Engine run complete. Time taken 00:00:01\n",
      "INFO:ignite.engine.engine.Engine:Epoch[4] Complete. Time taken: 00:00:02\n",
      "INFO:ignite.engine.engine.Engine:Epoch[4] Loss: 0.6451399326324463\n",
      "INFO:ignite.engine.engine.Engine:Engine run starting with max_epochs=1.\n",
      "INFO:ignite.engine.engine.Engine:Epoch[1] Complete. Time taken: 00:00:00\n",
      "INFO:ignite.engine.engine.Engine:Epoch[1] Metrics -- Mean_Dice: 0.3406 \n",
      "INFO:ignite.engine.engine.Engine:Engine run complete. Time taken 00:00:00\n",
      "INFO:ignite.engine.engine.Engine:Epoch[5] Complete. Time taken: 00:00:02\n",
      "INFO:ignite.engine.engine.Engine:Epoch[5] Loss: 0.6444500684738159\n",
      "INFO:ignite.engine.engine.Engine:Engine run starting with max_epochs=1.\n",
      "INFO:ignite.engine.engine.Engine:Epoch[1] Complete. Time taken: 00:00:00\n",
      "INFO:ignite.engine.engine.Engine:Epoch[1] Metrics -- Mean_Dice: 0.3469 \n",
      "INFO:ignite.engine.engine.Engine:Engine run complete. Time taken 00:00:01\n",
      "INFO:ignite.engine.engine.Engine:Epoch[6] Complete. Time taken: 00:00:02\n",
      "INFO:ignite.engine.engine.Engine:Epoch[6] Loss: 0.6436276435852051\n",
      "INFO:ignite.engine.engine.Engine:Engine run starting with max_epochs=1.\n",
      "INFO:ignite.engine.engine.Engine:Epoch[1] Complete. Time taken: 00:00:00\n",
      "INFO:ignite.engine.engine.Engine:Epoch[1] Metrics -- Mean_Dice: 0.3534 \n",
      "INFO:ignite.engine.engine.Engine:Engine run complete. Time taken 00:00:01\n",
      "INFO:ignite.engine.engine.Engine:Epoch[7] Complete. Time taken: 00:00:02\n",
      "INFO:ignite.engine.engine.Engine:Epoch[7] Loss: 0.6465097069740295\n",
      "INFO:ignite.engine.engine.Engine:Engine run starting with max_epochs=1.\n",
      "INFO:ignite.engine.engine.Engine:Epoch[1] Complete. Time taken: 00:00:00\n",
      "INFO:ignite.engine.engine.Engine:Epoch[1] Metrics -- Mean_Dice: 0.3602 \n",
      "INFO:ignite.engine.engine.Engine:Engine run complete. Time taken 00:00:00\n",
      "INFO:ignite.engine.engine.Engine:Epoch[8] Complete. Time taken: 00:00:02\n",
      "INFO:ignite.engine.engine.Engine:Epoch[8] Loss: 0.6543605327606201\n",
      "INFO:ignite.engine.engine.Engine:Engine run starting with max_epochs=1.\n",
      "INFO:ignite.engine.engine.Engine:Epoch[1] Complete. Time taken: 00:00:00\n",
      "INFO:ignite.engine.engine.Engine:Epoch[1] Metrics -- Mean_Dice: 0.3676 \n",
      "INFO:ignite.engine.engine.Engine:Engine run complete. Time taken 00:00:01\n",
      "INFO:ignite.engine.engine.Engine:Epoch[9] Complete. Time taken: 00:00:02\n",
      "INFO:ignite.engine.engine.Engine:Epoch[9] Loss: 0.6376665234565735\n",
      "INFO:ignite.engine.engine.Engine:Engine run starting with max_epochs=1.\n",
      "INFO:ignite.engine.engine.Engine:Epoch[1] Complete. Time taken: 00:00:00\n",
      "INFO:ignite.engine.engine.Engine:Epoch[1] Metrics -- Mean_Dice: 0.3756 \n",
      "INFO:ignite.engine.engine.Engine:Engine run complete. Time taken 00:00:01\n",
      "INFO:ignite.engine.engine.Engine:Epoch[10] Complete. Time taken: 00:00:02\n",
      "INFO:ignite.engine.engine.Engine:Epoch[10] Loss: 0.6404213905334473\n",
      "INFO:ignite.engine.engine.Engine:Engine run starting with max_epochs=1.\n",
      "INFO:ignite.engine.engine.Engine:Epoch[1] Complete. Time taken: 00:00:00\n",
      "INFO:ignite.engine.engine.Engine:Epoch[1] Metrics -- Mean_Dice: 0.3842 \n",
      "INFO:ignite.engine.engine.Engine:Engine run complete. Time taken 00:00:01\n",
      "INFO:ignite.engine.engine.Engine:Epoch[11] Complete. Time taken: 00:00:02\n",
      "INFO:ignite.engine.engine.Engine:Epoch[11] Loss: 0.6427902579307556\n",
      "INFO:ignite.engine.engine.Engine:Engine run starting with max_epochs=1.\n",
      "INFO:ignite.engine.engine.Engine:Epoch[1] Complete. Time taken: 00:00:00\n",
      "INFO:ignite.engine.engine.Engine:Epoch[1] Metrics -- Mean_Dice: 0.3931 \n",
      "INFO:ignite.engine.engine.Engine:Engine run complete. Time taken 00:00:01\n",
      "INFO:ignite.engine.engine.Engine:Epoch[12] Complete. Time taken: 00:00:02\n",
      "INFO:ignite.engine.engine.Engine:Epoch[12] Loss: 0.6375727653503418\n",
      "INFO:ignite.engine.engine.Engine:Engine run starting with max_epochs=1.\n",
      "INFO:ignite.engine.engine.Engine:Epoch[1] Complete. Time taken: 00:00:00\n",
      "INFO:ignite.engine.engine.Engine:Epoch[1] Metrics -- Mean_Dice: 0.4024 \n",
      "INFO:ignite.engine.engine.Engine:Engine run complete. Time taken 00:00:01\n",
      "INFO:ignite.engine.engine.Engine:Epoch[13] Complete. Time taken: 00:00:02\n",
      "INFO:ignite.engine.engine.Engine:Epoch[13] Loss: 0.640845537185669\n",
      "INFO:ignite.engine.engine.Engine:Engine run starting with max_epochs=1.\n",
      "INFO:ignite.engine.engine.Engine:Epoch[1] Complete. Time taken: 00:00:00\n",
      "INFO:ignite.engine.engine.Engine:Epoch[1] Metrics -- Mean_Dice: 0.4119 \n",
      "INFO:ignite.engine.engine.Engine:Engine run complete. Time taken 00:00:01\n",
      "INFO:ignite.engine.engine.Engine:Epoch[14] Complete. Time taken: 00:00:02\n",
      "INFO:ignite.engine.engine.Engine:Epoch[14] Loss: 0.6324806809425354\n",
      "INFO:ignite.engine.engine.Engine:Engine run starting with max_epochs=1.\n",
      "INFO:ignite.engine.engine.Engine:Epoch[1] Complete. Time taken: 00:00:00\n",
      "INFO:ignite.engine.engine.Engine:Epoch[1] Metrics -- Mean_Dice: 0.4216 \n",
      "INFO:ignite.engine.engine.Engine:Engine run complete. Time taken 00:00:00\n",
      "INFO:ignite.engine.engine.Engine:Epoch[15] Complete. Time taken: 00:00:02\n",
      "INFO:ignite.engine.engine.Engine:Epoch[15] Loss: 0.6381043195724487\n",
      "INFO:ignite.engine.engine.Engine:Engine run starting with max_epochs=1.\n",
      "INFO:ignite.engine.engine.Engine:Epoch[1] Complete. Time taken: 00:00:00\n",
      "INFO:ignite.engine.engine.Engine:Epoch[1] Metrics -- Mean_Dice: 0.4312 \n",
      "INFO:ignite.engine.engine.Engine:Engine run complete. Time taken 00:00:00\n",
      "INFO:ignite.engine.engine.Engine:Epoch[16] Complete. Time taken: 00:00:02\n",
      "INFO:ignite.engine.engine.Engine:Epoch[16] Loss: 0.6361473202705383\n",
      "INFO:ignite.engine.engine.Engine:Engine run starting with max_epochs=1.\n",
      "INFO:ignite.engine.engine.Engine:Epoch[1] Complete. Time taken: 00:00:00\n",
      "INFO:ignite.engine.engine.Engine:Epoch[1] Metrics -- Mean_Dice: 0.4408 \n",
      "INFO:ignite.engine.engine.Engine:Engine run complete. Time taken 00:00:01\n",
      "INFO:ignite.engine.engine.Engine:Epoch[17] Complete. Time taken: 00:00:02\n",
      "INFO:ignite.engine.engine.Engine:Epoch[17] Loss: 0.6266491413116455\n",
      "INFO:ignite.engine.engine.Engine:Engine run starting with max_epochs=1.\n",
      "INFO:ignite.engine.engine.Engine:Epoch[1] Complete. Time taken: 00:00:00\n",
      "INFO:ignite.engine.engine.Engine:Epoch[1] Metrics -- Mean_Dice: 0.4501 \n",
      "INFO:ignite.engine.engine.Engine:Engine run complete. Time taken 00:00:01\n",
      "INFO:ignite.engine.engine.Engine:Epoch[18] Complete. Time taken: 00:00:02\n",
      "INFO:ignite.engine.engine.Engine:Epoch[18] Loss: 0.6219738721847534\n",
      "INFO:ignite.engine.engine.Engine:Engine run starting with max_epochs=1.\n",
      "INFO:ignite.engine.engine.Engine:Epoch[1] Complete. Time taken: 00:00:00\n",
      "INFO:ignite.engine.engine.Engine:Epoch[1] Metrics -- Mean_Dice: 0.4594 \n",
      "INFO:ignite.engine.engine.Engine:Engine run complete. Time taken 00:00:01\n",
      "INFO:ignite.engine.engine.Engine:Epoch[19] Complete. Time taken: 00:00:02\n",
      "INFO:ignite.engine.engine.Engine:Epoch[19] Loss: 0.6317167282104492\n",
      "INFO:ignite.engine.engine.Engine:Engine run starting with max_epochs=1.\n",
      "INFO:ignite.engine.engine.Engine:Epoch[1] Complete. Time taken: 00:00:00\n",
      "INFO:ignite.engine.engine.Engine:Epoch[1] Metrics -- Mean_Dice: 0.4687 \n"
     ]
    },
    {
     "name": "stdout",
     "output_type": "stream",
     "text": [
      "INFO:ignite.engine.engine.Engine:Engine run complete. Time taken 00:00:00\n",
      "INFO:ignite.engine.engine.Engine:Epoch[20] Complete. Time taken: 00:00:02\n",
      "INFO:ignite.engine.engine.Engine:Epoch[20] Loss: 0.6311004161834717\n",
      "INFO:ignite.engine.engine.Engine:Engine run starting with max_epochs=1.\n",
      "INFO:ignite.engine.engine.Engine:Epoch[1] Complete. Time taken: 00:00:00\n",
      "INFO:ignite.engine.engine.Engine:Epoch[1] Metrics -- Mean_Dice: 0.4778 \n",
      "INFO:ignite.engine.engine.Engine:Engine run complete. Time taken 00:00:00\n",
      "INFO:ignite.engine.engine.Engine:Epoch[21] Complete. Time taken: 00:00:02\n",
      "INFO:ignite.engine.engine.Engine:Epoch[21] Loss: 0.6252765655517578\n",
      "INFO:ignite.engine.engine.Engine:Engine run starting with max_epochs=1.\n",
      "INFO:ignite.engine.engine.Engine:Epoch[1] Complete. Time taken: 00:00:00\n",
      "INFO:ignite.engine.engine.Engine:Epoch[1] Metrics -- Mean_Dice: 0.4869 \n",
      "INFO:ignite.engine.engine.Engine:Engine run complete. Time taken 00:00:00\n",
      "INFO:ignite.engine.engine.Engine:Epoch[22] Complete. Time taken: 00:00:02\n",
      "INFO:ignite.engine.engine.Engine:Epoch[22] Loss: 0.6269791126251221\n",
      "INFO:ignite.engine.engine.Engine:Engine run starting with max_epochs=1.\n",
      "INFO:ignite.engine.engine.Engine:Epoch[1] Complete. Time taken: 00:00:00\n",
      "INFO:ignite.engine.engine.Engine:Epoch[1] Metrics -- Mean_Dice: 0.4957 \n",
      "INFO:ignite.engine.engine.Engine:Engine run complete. Time taken 00:00:01\n",
      "INFO:ignite.engine.engine.Engine:Epoch[23] Complete. Time taken: 00:00:02\n",
      "INFO:ignite.engine.engine.Engine:Epoch[23] Loss: 0.6195886731147766\n",
      "INFO:ignite.engine.engine.Engine:Engine run starting with max_epochs=1.\n",
      "INFO:ignite.engine.engine.Engine:Epoch[1] Complete. Time taken: 00:00:00\n",
      "INFO:ignite.engine.engine.Engine:Epoch[1] Metrics -- Mean_Dice: 0.5044 \n",
      "INFO:ignite.engine.engine.Engine:Engine run complete. Time taken 00:00:00\n",
      "INFO:ignite.engine.engine.Engine:Epoch[24] Complete. Time taken: 00:00:02\n",
      "INFO:ignite.engine.engine.Engine:Epoch[24] Loss: 0.6242675185203552\n",
      "INFO:ignite.engine.engine.Engine:Engine run starting with max_epochs=1.\n",
      "INFO:ignite.engine.engine.Engine:Epoch[1] Complete. Time taken: 00:00:00\n",
      "INFO:ignite.engine.engine.Engine:Epoch[1] Metrics -- Mean_Dice: 0.5126 \n",
      "INFO:ignite.engine.engine.Engine:Engine run complete. Time taken 00:00:00\n",
      "INFO:ignite.engine.engine.Engine:Epoch[25] Complete. Time taken: 00:00:02\n",
      "INFO:ignite.engine.engine.Engine:Epoch[25] Loss: 0.6193283200263977\n",
      "INFO:ignite.engine.engine.Engine:Engine run starting with max_epochs=1.\n",
      "INFO:ignite.engine.engine.Engine:Epoch[1] Complete. Time taken: 00:00:00\n",
      "INFO:ignite.engine.engine.Engine:Epoch[1] Metrics -- Mean_Dice: 0.5202 \n",
      "INFO:ignite.engine.engine.Engine:Engine run complete. Time taken 00:00:01\n",
      "INFO:ignite.engine.engine.Engine:Epoch[26] Complete. Time taken: 00:00:02\n",
      "INFO:ignite.engine.engine.Engine:Epoch[26] Loss: 0.6183103322982788\n",
      "INFO:ignite.engine.engine.Engine:Engine run starting with max_epochs=1.\n",
      "INFO:ignite.engine.engine.Engine:Epoch[1] Complete. Time taken: 00:00:00\n",
      "INFO:ignite.engine.engine.Engine:Epoch[1] Metrics -- Mean_Dice: 0.5272 \n",
      "INFO:ignite.engine.engine.Engine:Engine run complete. Time taken 00:00:00\n",
      "INFO:ignite.engine.engine.Engine:Epoch[27] Complete. Time taken: 00:00:02\n",
      "INFO:ignite.engine.engine.Engine:Epoch[27] Loss: 0.6169862747192383\n",
      "INFO:ignite.engine.engine.Engine:Engine run starting with max_epochs=1.\n",
      "INFO:ignite.engine.engine.Engine:Epoch[1] Complete. Time taken: 00:00:00\n",
      "INFO:ignite.engine.engine.Engine:Epoch[1] Metrics -- Mean_Dice: 0.5337 \n",
      "INFO:ignite.engine.engine.Engine:Engine run complete. Time taken 00:00:00\n",
      "INFO:ignite.engine.engine.Engine:Epoch[28] Complete. Time taken: 00:00:02\n",
      "INFO:ignite.engine.engine.Engine:Epoch[28] Loss: 0.6121048331260681\n",
      "INFO:ignite.engine.engine.Engine:Engine run starting with max_epochs=1.\n",
      "INFO:ignite.engine.engine.Engine:Epoch[1] Complete. Time taken: 00:00:00\n",
      "INFO:ignite.engine.engine.Engine:Epoch[1] Metrics -- Mean_Dice: 0.5394 \n",
      "INFO:ignite.engine.engine.Engine:Engine run complete. Time taken 00:00:01\n",
      "INFO:ignite.engine.engine.Engine:Epoch[29] Complete. Time taken: 00:00:02\n",
      "INFO:ignite.engine.engine.Engine:Epoch[29] Loss: 0.618910551071167\n",
      "INFO:ignite.engine.engine.Engine:Engine run starting with max_epochs=1.\n",
      "INFO:ignite.engine.engine.Engine:Epoch[1] Complete. Time taken: 00:00:00\n",
      "INFO:ignite.engine.engine.Engine:Epoch[1] Metrics -- Mean_Dice: 0.5445 \n",
      "INFO:ignite.engine.engine.Engine:Engine run complete. Time taken 00:00:01\n",
      "INFO:ignite.engine.engine.Engine:Epoch[30] Complete. Time taken: 00:00:02\n",
      "INFO:ignite.engine.engine.Engine:Epoch[30] Loss: 0.6069970726966858\n",
      "INFO:ignite.engine.engine.Engine:Engine run starting with max_epochs=1.\n",
      "INFO:ignite.engine.engine.Engine:Epoch[1] Complete. Time taken: 00:00:00\n",
      "INFO:ignite.engine.engine.Engine:Epoch[1] Metrics -- Mean_Dice: 0.5492 \n",
      "INFO:ignite.engine.engine.Engine:Engine run complete. Time taken 00:00:01\n",
      "INFO:ignite.engine.engine.Engine:Engine run complete. Time taken 00:02:09\n"
     ]
    }
   ],
   "source": [
    "# create a training data loader\n",
    "logging.basicConfig(stream=sys.stdout, level=logging.INFO)\n",
    "\n",
    "train_ds = NiftiDataset(images[:20], segs[:20], transform=imtrans, seg_transform=segtrans)\n",
    "train_loader = DataLoader(train_ds, batch_size=5, num_workers=8, pin_memory=torch.cuda.is_available())\n",
    "\n",
    "train_epochs = 30\n",
    "state = trainer.run(train_loader, train_epochs)"
   ]
  },
  {
   "cell_type": "markdown",
   "metadata": {},
   "source": [
    "## Visualizing Tensorboard logs"
   ]
  },
  {
   "cell_type": "code",
   "execution_count": 10,
   "metadata": {},
   "outputs": [
    {
     "data": {
      "text/html": [
       "\n",
       "      <iframe id=\"tensorboard-frame-44dcda6a797d76de\" width=\"100%\" height=\"800\" frameborder=\"0\">\n",
       "      </iframe>\n",
       "      <script>\n",
       "        (function() {\n",
       "          const frame = document.getElementById(\"tensorboard-frame-44dcda6a797d76de\");\n",
       "          const url = new URL(\"/\", window.location);\n",
       "          url.port = 6008;\n",
       "          frame.src = url;\n",
       "        })();\n",
       "      </script>\n",
       "  "
      ],
      "text/plain": [
       "<IPython.core.display.HTML object>"
      ]
     },
     "metadata": {},
     "output_type": "display_data"
    }
   ],
   "source": [
    "log_dir = writer.get_logdir()\n",
    "\n",
    "%load_ext tensorboard\n",
    "%tensorboard --logdir $log_dir"
   ]
  },
  {
   "cell_type": "code",
   "execution_count": null,
   "metadata": {},
   "outputs": [],
   "source": [
    "!rm -rf {tempdir}"
   ]
  }
 ],
 "metadata": {
  "kernelspec": {
   "display_name": "Python 3",
   "language": "python",
   "name": "python3"
  },
  "language_info": {
   "codemirror_mode": {
    "name": "ipython",
    "version": 3
   },
   "file_extension": ".py",
   "mimetype": "text/x-python",
   "name": "python",
   "nbconvert_exporter": "python",
   "pygments_lexer": "ipython3",
   "version": "3.7.4"
  }
 },
 "nbformat": 4,
 "nbformat_minor": 4
}
