{
 "cells": [
  {
   "cell_type": "code",
   "execution_count": 8,
   "metadata": {},
   "outputs": [
    {
     "name": "stdout",
     "output_type": "stream",
     "text": [
      "MONAI version: 0.0.1\n",
      "Python version: 3.7.3 (default, Mar 27 2019, 22:11:17)  [GCC 7.3.0]\n",
      "Numpy version: 1.16.4\n",
      "Pytorch version: 1.3.1\n",
      "Ignite version: 0.2.1\n"
     ]
    }
   ],
   "source": [
    "%matplotlib inline\n",
    "\n",
    "import os, sys\n",
    "from functools import partial\n",
    "\n",
    "import torch\n",
    "import torch.nn as nn\n",
    "import numpy as np\n",
    "import matplotlib.pyplot as plt\n",
    "\n",
    "from ignite.engine import Events, create_supervised_trainer\n",
    "\n",
    "# assumes the framework is found here, change as necessary\n",
    "sys.path.append(\"..\")\n",
    "\n",
    "from monai import application, data, networks, utils\n",
    "import monai.data.augments.augments as augments\n",
    "\n",
    "application.config.print_config()"
   ]
  },
  {
   "cell_type": "markdown",
   "metadata": {},
   "source": [
    "Download the downsampled segmented images from the Sunnybrook Cardiac Dataset. This is a simple low-res dataset I put together for a workshop. The task is to segment the left ventricle in the image which shows up as an annulus. "
   ]
  },
  {
   "cell_type": "code",
   "execution_count": 2,
   "metadata": {},
   "outputs": [],
   "source": [
    "! [ ! -f scd_lvsegs.npz ] &&  wget -q https://github.com/ericspod/VPHSummerSchool2019/raw/master/scd_lvsegs.npz"
   ]
  },
  {
   "cell_type": "markdown",
   "metadata": {},
   "source": [
    "Create the reader to bring the images in, these are initially in uint16 format with no channels:"
   ]
  },
  {
   "cell_type": "code",
   "execution_count": 9,
   "metadata": {},
   "outputs": [],
   "source": [
    "imSrc = data.readers.NPZReader(\"scd_lvsegs.npz\", [\"images\", \"segs\"], orderType=data.streams.OrderType.CHOICE)"
   ]
  },
  {
   "cell_type": "markdown",
   "metadata": {},
   "source": [
    "Define a stream to convert the image format, apply some basic augments using multiple threads, and buffer the stream behind a thread so that batching can be done in parallel with the training process."
   ]
  },
  {
   "cell_type": "code",
   "execution_count": 10,
   "metadata": {},
   "outputs": [
    {
     "name": "stdout",
     "output_type": "stream",
     "text": [
      "(200, 1, 64, 64) float32 (200, 1, 64, 64) int32\n"
     ]
    },
    {
     "data": {
      "text/plain": [
       "<matplotlib.image.AxesImage at 0x7f82f1a759e8>"
      ]
     },
     "execution_count": 10,
     "metadata": {},
     "output_type": "execute_result"
    },
    {
     "data": {
      "image/png": "[encoded data removed]",
      "text/plain": [
       "<Figure size 432x288 with 1 Axes>"
      ]
     },
     "metadata": {
      "needs_background": "light"
     },
     "output_type": "display_data"
    }
   ],
   "source": [
    "def normalizeImg(im, seg):\n",
    "    im = utils.arrayutils.rescaleArray(im)\n",
    "    im = im[None].astype(np.float32)\n",
    "    seg = seg[None].astype(np.int32)\n",
    "    return im, seg\n",
    "\n",
    "\n",
    "augs = [\n",
    "    normalizeImg,\n",
    "    augments.rot90,\n",
    "    augments.transpose,\n",
    "    augments.flip,\n",
    "    partial(augments.shift, dimFract=5, order=0, nonzeroIndex=1),\n",
    "]\n",
    "\n",
    "src = data.augments.augmentstream.ThreadAugmentStream(imSrc, 200, augments=augs)\n",
    "src = data.streams.ThreadBufferStream(src)\n",
    "\n",
    "im, seg = utils.mathutils.first(src)\n",
    "print(im.shape, im.dtype, seg.shape, seg.dtype)\n",
    "plt.imshow(np.hstack([im[0, 0], seg[0, 0]]))"
   ]
  },
  {
   "cell_type": "markdown",
   "metadata": {},
   "source": [
    "Define the network, loss, and optimizer:"
   ]
  },
  {
   "cell_type": "code",
   "execution_count": 11,
   "metadata": {},
   "outputs": [],
   "source": [
    "lr = 1e-3\n",
    "\n",
    "net = networks.nets.UNet(\n",
    "    dimensions=2,\n",
    "    inChannels=1,\n",
    "    numClasses=1,\n",
    "    channels=(16, 32, 64, 128, 256),\n",
    "    strides=(2, 2, 2, 2),\n",
    "    numResUnits=2,\n",
    ")\n",
    "\n",
    "loss = networks.losses.DiceLoss()\n",
    "opt = torch.optim.Adam(net.parameters(), lr)"
   ]
  },
  {
   "cell_type": "markdown",
   "metadata": {},
   "source": [
    "Train using an Ignite Engine:"
   ]
  },
  {
   "cell_type": "code",
   "execution_count": 13,
   "metadata": {},
   "outputs": [
    {
     "name": "stdout",
     "output_type": "stream",
     "text": [
      "Epoch 1 Loss: 0.8310171365737915\n",
      "Epoch 2 Loss: 0.8060150742530823\n",
      "Epoch 3 Loss: 0.7623872756958008\n",
      "Epoch 4 Loss: 0.6729476451873779\n",
      "Epoch 5 Loss: 0.6116510629653931\n",
      "Epoch 6 Loss: 0.5286673903465271\n",
      "Epoch 7 Loss: 0.4480087161064148\n",
      "Epoch 8 Loss: 0.41203784942626953\n",
      "Epoch 9 Loss: 0.3519987463951111\n",
      "Epoch 10 Loss: 0.30135440826416016\n",
      "Epoch 11 Loss: 0.274499773979187\n",
      "Epoch 12 Loss: 0.2519426941871643\n",
      "Epoch 13 Loss: 0.23030847311019897\n",
      "Epoch 14 Loss: 0.22828155755996704\n",
      "Epoch 15 Loss: 0.22576206922531128\n",
      "Epoch 16 Loss: 0.23023653030395508\n",
      "Epoch 17 Loss: 0.21913212537765503\n",
      "Epoch 18 Loss: 0.22168612480163574\n",
      "Epoch 19 Loss: 0.2222415804862976\n",
      "Epoch 20 Loss: 0.20740610361099243\n"
     ]
    }
   ],
   "source": [
    "trainSteps = 100\n",
    "trainEpochs = 20\n",
    "trainSubsteps = 1\n",
    "\n",
    "\n",
    "def _prepare_batch(batch, device=None, non_blocking=False):\n",
    "    x, y = batch\n",
    "    return torch.from_numpy(x).to(device), torch.from_numpy(y).to(device)\n",
    "\n",
    "\n",
    "loss_fn = lambda i, j: loss(i[0], j)\n",
    "\n",
    "trainer = create_supervised_trainer( net, opt, loss_fn, torch.device(\"cuda:0\"), False, _prepare_batch)\n",
    "\n",
    "\n",
    "@trainer.on(Events.EPOCH_COMPLETED)\n",
    "def log_training_loss(engine):\n",
    "    print(\"Epoch\", engine.state.epoch, \"Loss:\", engine.state.output)\n",
    "\n",
    "\n",
    "fsrc = data.streams.FiniteStream(\n",
    "    src, trainSteps\n",
    ")  # finite stream to train only for as many steps as we specify\n",
    "state = trainer.run(fsrc, trainEpochs)"
   ]
  },
  {
   "cell_type": "code",
   "execution_count": 14,
   "metadata": {},
   "outputs": [
    {
     "data": {
      "text/plain": [
       "<matplotlib.image.AxesImage at 0x7f82f19a02e8>"
      ]
     },
     "execution_count": 14,
     "metadata": {},
     "output_type": "execute_result"
    },
    {
     "data": {
      "image/png": "[encoded data removed]",
      "text/plain": [
       "<Figure size 432x288 with 1 Axes>"
      ]
     },
     "metadata": {
      "needs_background": "light"
     },
     "output_type": "display_data"
    }
   ],
   "source": [
    "im, seg = utils.mathutils.first(imSrc)\n",
    "testim = utils.arrayutils.rescaleArray(im[None, None])\n",
    "\n",
    "pred = net.cpu()(torch.from_numpy(testim))\n",
    "\n",
    "pseg = pred[1].data.numpy()\n",
    "\n",
    "plt.imshow(np.hstack([testim[0, 0], pseg[0]]))"
   ]
  }
 ],
 "metadata": {
  "kernelspec": {
   "display_name": "Python 3",
   "language": "python",
   "name": "python3"
  },
  "language_info": {
   "codemirror_mode": {
    "name": "ipython",
    "version": 3
   },
   "file_extension": ".py",
   "mimetype": "text/x-python",
   "name": "python",
   "nbconvert_exporter": "python",
   "pygments_lexer": "ipython3",
   "version": "3.7.3"
  }
 },
 "nbformat": 4,
 "nbformat_minor": 4
}
